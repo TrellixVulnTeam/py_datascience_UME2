{
 "cells": [
  {
   "cell_type": "code",
   "execution_count": 3,
   "metadata": {},
   "outputs": [],
   "source": [
    "from __future__ import absolute_import, division, print_function, unicode_literals\n",
    "\n",
    "import tensorflow as tf\n",
    "from tensorflow import keras\n",
    "from tensorflow.python.keras.callbacks import TensorBoard\n",
    "import numpy as np\n",
    "import pandas as pd\n",
    "import matplotlib.pyplot as plt\n",
    "from time import time\n",
    "\n",
    "tf.enable_eager_execution()"
   ]
  },
  {
   "cell_type": "code",
   "execution_count": 30,
   "metadata": {},
   "outputs": [
    {
     "name": "stdout",
     "output_type": "stream",
     "text": [
      "            Number is_prime  no_prime  yes_prime\n",
      "0                0   [0, 1]       1.0        0.0\n",
      "1                1   [0, 1]       1.0        0.0\n",
      "2                2   [0, 1]       0.0        1.0\n",
      "3                3   [0, 1]       0.0        1.0\n",
      "4                4   [0, 1]       1.0        0.0\n",
      "...            ...      ...       ...        ...\n",
      "15485859  15485859   [0, 1]       1.0        0.0\n",
      "15485860  15485860   [0, 1]       1.0        0.0\n",
      "15485861  15485861   [0, 1]       1.0        0.0\n",
      "15485862  15485862   [0, 1]       1.0        0.0\n",
      "15485863  15485863   [0, 1]       0.0        1.0\n",
      "\n",
      "[15485864 rows x 4 columns]\n"
     ]
    }
   ],
   "source": [
    "prime_numbers = pd.read_csv('..\\\\Datasets\\\\primes1.txt', header=None, delim_whitespace=True)\n",
    "prime_numbers = prime_numbers.values.flatten()\n",
    "prime_numbers = pd.Series(prime_numbers.transpose())\n",
    "prime_numbers_and_not = pd.DataFrame({\n",
    "    'PM': prime_numbers\n",
    "})\n",
    "datas_to_save = pd.DataFrame({\n",
    "    'Number': range(0, prime_numbers_and_not['PM'].iloc[-1]+1),\n",
    "    'is_prime': [ (np.array([0,1]))  for i in range(0, prime_numbers_and_not['PM'].iloc[-1]+1) ],\n",
    "    'no_prime': np.zeros(prime_numbers_and_not['PM'].iloc[-1]+1),\n",
    "    'yes_prime': np.zeros(prime_numbers_and_not['PM'].iloc[-1]+1)\n",
    "})\n",
    "datas_to_save.loc[datas_to_save['Number'].isin(prime_numbers_and_not['PM']),'yes_prime'] = 1\n",
    "datas_to_save.loc[~datas_to_save['Number'].isin(prime_numbers_and_not['PM']),'no_prime'] = 1\n",
    "\n",
    "print(datas_to_save)\n",
    "#training_dataset = tf.data.Dataset.from_tensor_slices((tf.cast(datas_to_save['Number'].values, tf.float32), tf.cast(datas_to_save['yes_prime'].values, tf.float32), tf.cast(datas_to_save['no_prime'].values, tf.float32), tf.convert_to_tensor(datas_to_save['is_prime'])))\n",
    "training_dataset = tf.data.Dataset.from_tensor_slices((tf.cast(datas_to_save['Number'].values, tf.float32), tf.cast(datas_to_save['yes_prime'].values, tf.float32), tf.cast(datas_to_save['no_prime'].values, tf.float32)))"
   ]
  },
  {
   "cell_type": "code",
   "execution_count": 32,
   "metadata": {},
   "outputs": [
    {
     "name": "stdout",
     "output_type": "stream",
     "text": [
      "<DatasetV1Adapter shapes: (2,), types: tf.int32>\n"
     ]
    }
   ],
   "source": [
    "new_set = tf.data.Dataset.from_tensor_slices(datas_to_save['is_prime'])\n",
    "print(new_set)"
   ]
  },
  {
   "cell_type": "code",
   "execution_count": 34,
   "metadata": {},
   "outputs": [],
   "source": [
    "# init = tf.initializers.global_variables()\n",
    "# sess = tf.compat.v1.Session()\n",
    "# sess.run(init)\n",
    "prime_datas = new_set.shuffle(1000).batch(1000)\n",
    "prime_iterator = prime_datas.make_one_shot_iterator()\n",
    "datas = training_dataset.shuffle(1000).batch(1000)\n",
    "iterator = datas.make_one_shot_iterator()"
   ]
  },
  {
   "cell_type": "code",
   "execution_count": 36,
   "metadata": {},
   "outputs": [
    {
     "name": "stdout",
     "output_type": "stream",
     "text": [
      "tf.Tensor(\n",
      "[[0 1]\n",
      " [0 1]\n",
      " [0 1]\n",
      " ...\n",
      " [0 1]\n",
      " [0 1]\n",
      " [0 1]], shape=(1000, 2), dtype=int32)\n"
     ]
    }
   ],
   "source": [
    "prime_batch = prime_iterator.get_next()\n",
    "print(prime_batch)"
   ]
  },
  {
   "cell_type": "code",
   "execution_count": 29,
   "metadata": {},
   "outputs": [
    {
     "data": {
      "text/plain": [
       "<tf.Tensor: id=120, shape=(1000, 2), dtype=float32, numpy=\n",
       "array([[0., 1.],\n",
       "       [0., 1.],\n",
       "       [0., 1.],\n",
       "       ...,\n",
       "       [0., 1.],\n",
       "       [0., 1.],\n",
       "       [1., 0.]], dtype=float32)>"
      ]
     },
     "execution_count": 29,
     "metadata": {},
     "output_type": "execute_result"
    }
   ],
   "source": [
    "batch_xs, batch_ys1, batch_ys2 = iterator.get_next()\n",
    "batch_ys1 = tf.reshape(batch_ys1, [1000, 1])\n",
    "#print(batch_ys1)\n",
    "batch_ys2 = tf.reshape(batch_ys2, [1000, 1])\n",
    "#print(bath_ys2)\n",
    "tf.concat([batch_ys1, batch_ys2], 1)"
   ]
  },
  {
   "cell_type": "code",
   "execution_count": null,
   "metadata": {},
   "outputs": [],
   "source": [
    "def loss_f(model, inputs, targets):\n",
    "  error = model(inputs) - targets\n",
    "  return tf.reduce_mean(tf.square(error))"
   ]
  },
  {
   "cell_type": "code",
   "execution_count": 48,
   "metadata": {},
   "outputs": [
    {
     "name": "stdout",
     "output_type": "stream",
     "text": [
      "batch:  0\n",
      "None\n"
     ]
    },
    {
     "ename": "TypeError",
     "evalue": "zip argument #1 must support iteration",
     "output_type": "error",
     "traceback": [
      "\u001b[1;31m---------------------------------------------------------------------------\u001b[0m",
      "\u001b[1;31mTypeError\u001b[0m                                 Traceback (most recent call last)",
      "\u001b[1;32m<ipython-input-48-eb397ca248bb>\u001b[0m in \u001b[0;36m<module>\u001b[1;34m\u001b[0m\n\u001b[0;32m     20\u001b[0m         \u001b[0mgrads\u001b[0m \u001b[1;33m=\u001b[0m \u001b[0mtape\u001b[0m\u001b[1;33m.\u001b[0m\u001b[0mgradient\u001b[0m\u001b[1;33m(\u001b[0m\u001b[0mcross_entropy\u001b[0m\u001b[1;33m,\u001b[0m \u001b[0my\u001b[0m\u001b[1;33m)\u001b[0m\u001b[1;33m\u001b[0m\u001b[1;33m\u001b[0m\u001b[0m\n\u001b[0;32m     21\u001b[0m         \u001b[0mprint\u001b[0m\u001b[1;33m(\u001b[0m\u001b[0mgrads\u001b[0m\u001b[1;33m)\u001b[0m\u001b[1;33m\u001b[0m\u001b[1;33m\u001b[0m\u001b[0m\n\u001b[1;32m---> 22\u001b[1;33m         \u001b[0moptimizer\u001b[0m\u001b[1;33m.\u001b[0m\u001b[0mapply_gradients\u001b[0m\u001b[1;33m(\u001b[0m\u001b[0mzip\u001b[0m\u001b[1;33m(\u001b[0m\u001b[0mgrads\u001b[0m\u001b[1;33m,\u001b[0m \u001b[0mvariables\u001b[0m\u001b[1;33m)\u001b[0m\u001b[1;33m)\u001b[0m\u001b[1;33m\u001b[0m\u001b[1;33m\u001b[0m\u001b[0m\n\u001b[0m\u001b[0;32m     23\u001b[0m \u001b[1;31m#     train_step = tf.train.GradientDescentOptimizer(0.5).minimize(cross_entropy)\u001b[0m\u001b[1;33m\u001b[0m\u001b[1;33m\u001b[0m\u001b[1;33m\u001b[0m\u001b[0m\n\u001b[0;32m     24\u001b[0m \u001b[1;33m\u001b[0m\u001b[0m\n",
      "\u001b[1;31mTypeError\u001b[0m: zip argument #1 must support iteration"
     ]
    }
   ],
   "source": [
    "# each number can have 1 of 2 classes\n",
    "W = tf.Variable(tf.zeros([1000, 2]))\n",
    "b = tf.Variable(tf.zeros([2]))\n",
    "optimizer = tf.train.GradientDescentOptimizer(0.5)\n",
    "variables = [W, b]\n",
    "for i in range(15):\n",
    "    print(\"batch: \", i)\n",
    "    batch_xs, batch_ys1, batch_ys2 = iterator.get_next()\n",
    "    batch_xs = tf.reshape(batch_xs, [1, 1000])\n",
    "    batch_ys1 = tf.reshape(batch_ys1, [1000, 1])\n",
    "    #print(batch_ys1)\n",
    "    batch_ys2 = tf.reshape(batch_ys2, [1000, 1])\n",
    "    #print(bath_ys2)\n",
    "    batch_ys = tf.concat([batch_ys1, batch_ys2], 1)\n",
    "    x = batch_xs\n",
    "    y = tf.nn.softmax(tf.matmul(x, W) + b)\n",
    "    y_ = batch_ys   \n",
    "    with tf.GradientTape() as tape:\n",
    "        cross_entropy = tf.reduce_mean(-tf.reduce_sum(y_ * tf.log(y), reduction_indices=[1]))\n",
    "        print(variables)\n",
    "        grads = tape.gradient(cross_entropy, variables)\n",
    "        optimizer.apply_gradients(zip(grads, variables))\n",
    "#     train_step = tf.train.GradientDescentOptimizer(0.5).minimize(cross_entropy)    \n",
    "        \n",
    "batch_xs, batch_ys = iterator.get_next()\n",
    "batch_xs = sess.run(batch_xs)\n",
    "batch_xs = batch_xs.reshape(100, 10)\n",
    "batch_ys = sess.run(batch_ys)\n",
    "batch_ys = batch_ys.reshape(100, 10)\n",
    "# correct_prediction = tf.equal(tf.argmax(y, 1), tf.argmax(y_, 1))\n",
    "# accuracy = tf.reduce_mean(tf.cast(correct_prediction, tf.float32))\n",
    "prediction=tf.argmax(y,1)\n",
    "print(prediction)"
   ]
  },
  {
   "cell_type": "code",
   "execution_count": null,
   "metadata": {},
   "outputs": [],
   "source": []
  }
 ],
 "metadata": {
  "kernelspec": {
   "display_name": "Python 3",
   "language": "python",
   "name": "python3"
  },
  "language_info": {
   "codemirror_mode": {
    "name": "ipython",
    "version": 3
   },
   "file_extension": ".py",
   "mimetype": "text/x-python",
   "name": "python",
   "nbconvert_exporter": "python",
   "pygments_lexer": "ipython3",
   "version": "3.7.3"
  }
 },
 "nbformat": 4,
 "nbformat_minor": 2
}
