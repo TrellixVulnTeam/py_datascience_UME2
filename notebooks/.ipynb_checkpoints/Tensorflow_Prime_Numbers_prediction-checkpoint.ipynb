{
 "cells": [
  {
   "cell_type": "code",
   "execution_count": 3,
   "metadata": {},
   "outputs": [],
   "source": [
    "from __future__ import absolute_import, division, print_function, unicode_literals\n",
    "\n",
    "import tensorflow as tf\n",
    "from tensorflow import keras\n",
    "from tensorflow.python.keras.callbacks import TensorBoard\n",
    "import numpy as np\n",
    "import pandas as pd\n",
    "import matplotlib.pyplot as plt\n",
    "from time import time\n",
    "\n",
    "tf.enable_eager_execution()"
   ]
  },
  {
   "cell_type": "code",
   "execution_count": 5,
   "metadata": {},
   "outputs": [
    {
     "name": "stdout",
     "output_type": "stream",
     "text": [
      "            Number is_prime  no_prime  yes_prime\n",
      "0                0   [0, 1]       1.0        0.0\n",
      "1                1   [0, 1]       1.0        0.0\n",
      "2                2   [0, 1]       0.0        1.0\n",
      "3                3   [0, 1]       0.0        1.0\n",
      "4                4   [0, 1]       1.0        0.0\n",
      "...            ...      ...       ...        ...\n",
      "15485859  15485859   [0, 1]       1.0        0.0\n",
      "15485860  15485860   [0, 1]       1.0        0.0\n",
      "15485861  15485861   [0, 1]       1.0        0.0\n",
      "15485862  15485862   [0, 1]       1.0        0.0\n",
      "15485863  15485863   [0, 1]       0.0        1.0\n",
      "\n",
      "[15485864 rows x 4 columns]\n"
     ]
    }
   ],
   "source": [
    "prime_numbers = pd.read_csv('..\\\\Datasets\\\\primes1.txt', header=None, delim_whitespace=True)\n",
    "prime_numbers = prime_numbers.values.flatten()\n",
    "prime_numbers = pd.Series(prime_numbers.transpose())\n",
    "prime_numbers_and_not = pd.DataFrame({\n",
    "    'PM': prime_numbers\n",
    "})\n",
    "datas_to_save = pd.DataFrame({\n",
    "    'Number': range(0, prime_numbers_and_not['PM'].iloc[-1]+1),\n",
    "    'is_prime': [ (np.array([0,1]))  for i in range(0, prime_numbers_and_not['PM'].iloc[-1]+1) ],\n",
    "    'no_prime': np.zeros(prime_numbers_and_not['PM'].iloc[-1]+1),\n",
    "    'yes_prime': np.zeros(prime_numbers_and_not['PM'].iloc[-1]+1)\n",
    "})\n",
    "datas_to_save.loc[datas_to_save['Number'].isin(prime_numbers_and_not['PM']),'yes_prime'] = 1\n",
    "datas_to_save.loc[~datas_to_save['Number'].isin(prime_numbers_and_not['PM']),'no_prime'] = 1\n",
    "\n",
    "print(datas_to_save)\n",
    "#training_dataset = tf.data.Dataset.from_tensor_slices((tf.cast(datas_to_save['Number'].values, tf.float32), tf.cast(datas_to_save['yes_prime'].values, tf.float32), tf.cast(datas_to_save['no_prime'].values, tf.float32), tf.convert_to_tensor(datas_to_save['is_prime'])))\n",
    "training_dataset = tf.data.Dataset.from_tensor_slices((tf.cast(datas_to_save['Number'].values, tf.float32), tf.cast(datas_to_save['yes_prime'].values, tf.float32), tf.cast(datas_to_save['no_prime'].values, tf.float32)))\n"
   ]
  },
  {
   "cell_type": "code",
   "execution_count": 7,
   "metadata": {},
   "outputs": [
    {
     "name": "stderr",
     "output_type": "stream",
     "text": [
      "WARNING: Logging before flag parsing goes to stderr.\n",
      "W0820 17:38:08.390195 10328 deprecation.py:323] From <ipython-input-7-d49bf6b8d512>:5: DatasetV1.make_one_shot_iterator (from tensorflow.python.data.ops.dataset_ops) is deprecated and will be removed in a future version.\n",
      "Instructions for updating:\n",
      "Use `for ... in dataset:` to iterate over a dataset. If using `tf.estimator`, return the `Dataset` object directly from your input function. As a last resort, you can use `tf.compat.v1.data.make_one_shot_iterator(dataset)`.\n"
     ]
    }
   ],
   "source": [
    "# init = tf.initializers.global_variables()\n",
    "# sess = tf.compat.v1.Session()\n",
    "# sess.run(init)\n",
    "datas = training_dataset.shuffle(1000).batch(1000)\n",
    "iterator = datas.make_one_shot_iterator()"
   ]
  },
  {
   "cell_type": "code",
   "execution_count": 26,
   "metadata": {},
   "outputs": [],
   "source": [
    "batch_xs, batch_ys1, batch_ys2 = iterator.get_next()\n",
    "batch_ys1 = tf.reshape(batch_ys1, [1000, 1])\n",
    "print(batch_ys1)\n",
    "\n",
    "# tf.concat([batch_ys1, batch_ys2], 1)"
   ]
  },
  {
   "cell_type": "code",
   "execution_count": null,
   "metadata": {},
   "outputs": [],
   "source": []
  },
  {
   "cell_type": "code",
   "execution_count": null,
   "metadata": {},
   "outputs": [],
   "source": []
  }
 ],
 "metadata": {
  "kernelspec": {
   "display_name": "Python 3",
   "language": "python",
   "name": "python3"
  },
  "language_info": {
   "codemirror_mode": {
    "name": "ipython",
    "version": 3
   },
   "file_extension": ".py",
   "mimetype": "text/x-python",
   "name": "python",
   "nbconvert_exporter": "python",
   "pygments_lexer": "ipython3",
   "version": "3.7.3"
  }
 },
 "nbformat": 4,
 "nbformat_minor": 2
}
