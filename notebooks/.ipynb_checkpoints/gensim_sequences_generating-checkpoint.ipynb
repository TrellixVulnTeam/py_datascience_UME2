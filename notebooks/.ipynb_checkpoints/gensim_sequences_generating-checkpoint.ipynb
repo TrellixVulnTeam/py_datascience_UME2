{
 "cells": [
  {
   "cell_type": "code",
   "execution_count": 2,
   "metadata": {},
   "outputs": [],
   "source": [
    "import gensim\n",
    "import pymorphy2"
   ]
  },
  {
   "cell_type": "code",
   "execution_count": 9,
   "metadata": {},
   "outputs": [
    {
     "name": "stdout",
     "output_type": "stream",
     "text": [
      "2765541\n"
     ]
    }
   ],
   "source": [
    "file_path = \"G:\\\\New folder\\\\month-2011-12-qtraf_small\"\n",
    "sequences = []\n",
    "with open(file_path) as read_f:\n",
    "    for line in read_f: \n",
    "        sequences.append(line.split(\" \"))\n",
    "print(len(sequences))"
   ]
  },
  {
   "cell_type": "code",
   "execution_count": 10,
   "metadata": {},
   "outputs": [
    {
     "name": "stderr",
     "output_type": "stream",
     "text": [
      "C:\\Users\\user\\Anaconda3\\lib\\site-packages\\ipykernel_launcher.py:3: DeprecationWarning: Call to deprecated `iter` (Attribute will be removed in 4.0.0, use self.epochs instead).\n",
      "  This is separate from the ipykernel package so we can avoid doing imports until\n"
     ]
    },
    {
     "data": {
      "text/plain": [
       "(62488974, 67465515)"
      ]
     },
     "execution_count": 10,
     "metadata": {},
     "output_type": "execute_result"
    }
   ],
   "source": [
    "model = gensim.models.Word2Vec(min_count=1)\n",
    "model.build_vocab(sequences)\n",
    "model.train(sequences, total_examples=model.corpus_count, epochs=model.iter)"
   ]
  },
  {
   "cell_type": "code",
   "execution_count": 11,
   "metadata": {},
   "outputs": [],
   "source": [
    "model.save(\"G:\\\\New folder\\\\models\\\\gensim\\\\wordstat_100MB_model\")"
   ]
  },
  {
   "cell_type": "code",
   "execution_count": 19,
   "metadata": {},
   "outputs": [
    {
     "data": {
      "text/plain": [
       "[('квартир', 0.60475093),\n",
       " ('продам', 0.23898901),\n",
       " ('лодок', 0.0441455),\n",
       " ('форд', 0.025635121),\n",
       " ('моторов', 0.0093249595),\n",
       " ('сабвуферов', 0.0033436685),\n",
       " ('оптовая', 0.0031206924),\n",
       " ('облицовочного', 0.0026267201),\n",
       " ('автомобилей', 0.002092953),\n",
       " ('фонарей', 0.0018426244)]"
      ]
     },
     "execution_count": 19,
     "metadata": {},
     "output_type": "execute_result"
    }
   ],
   "source": [
    "model.predict_output_word(['казань', \"продажа\"])"
   ]
  },
  {
   "cell_type": "code",
   "execution_count": null,
   "metadata": {},
   "outputs": [],
   "source": []
  }
 ],
 "metadata": {
  "kernelspec": {
   "display_name": "Python 3",
   "language": "python",
   "name": "python3"
  },
  "language_info": {
   "codemirror_mode": {
    "name": "ipython",
    "version": 3
   },
   "file_extension": ".py",
   "mimetype": "text/x-python",
   "name": "python",
   "nbconvert_exporter": "python",
   "pygments_lexer": "ipython3",
   "version": "3.7.3"
  }
 },
 "nbformat": 4,
 "nbformat_minor": 2
}
