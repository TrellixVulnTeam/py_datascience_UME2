{
 "cells": [
  {
   "cell_type": "code",
   "execution_count": 1,
   "metadata": {},
   "outputs": [],
   "source": [
    "import gensim\n",
    "import pymorphy2"
   ]
  },
  {
   "cell_type": "code",
   "execution_count": 5,
   "metadata": {},
   "outputs": [
    {
     "name": "stdout",
     "output_type": "stream",
     "text": [
      "577390\n"
     ]
    }
   ],
   "source": [
    "file_path = \"G:\\\\New folder\\\\phrases_201909041136_clean.csv\"\n",
    "sequences = []\n",
    "with open(file_path, encoding=\"utf-8\") as read_f:\n",
    "    for line in read_f: \n",
    "        sequences.append(line.split(\" \"))\n",
    "print(len(sequences))"
   ]
  },
  {
   "cell_type": "code",
   "execution_count": 6,
   "metadata": {},
   "outputs": [
    {
     "name": "stderr",
     "output_type": "stream",
     "text": [
      "C:\\Users\\user\\Anaconda3\\lib\\site-packages\\ipykernel_launcher.py:3: DeprecationWarning: Call to deprecated `iter` (Attribute will be removed in 4.0.0, use self.epochs instead).\n",
      "  This is separate from the ipykernel package so we can avoid doing imports until\n"
     ]
    },
    {
     "data": {
      "text/plain": [
       "(12030974, 12571365)"
      ]
     },
     "execution_count": 6,
     "metadata": {},
     "output_type": "execute_result"
    }
   ],
   "source": [
    "model = gensim.models.Word2Vec(min_count=1)\n",
    "model.build_vocab(sequences)\n",
    "model.train(sequences, total_examples=model.corpus_count, epochs=model.iter)"
   ]
  },
  {
   "cell_type": "code",
   "execution_count": 7,
   "metadata": {},
   "outputs": [],
   "source": [
    "model.save(\"G:\\\\New folder\\\\models\\\\gensim\\\\phrases_45MB_model_clean\")"
   ]
  },
  {
   "cell_type": "code",
   "execution_count": 8,
   "metadata": {},
   "outputs": [
    {
     "data": {
      "text/plain": [
       "[('москва\\n', 1.8944374e-05),\n",
       " ('россии\\n', 7.942703e-06),\n",
       " ('2019-09-01,576434,метал', 7.1945565e-06),\n",
       " ('-москва\\n', 6.8677846e-06),\n",
       " ('2019-06-01,209821,host:infobox.ru', 6.7802093e-06),\n",
       " ('2019-06-01,69757,установка', 6.661835e-06),\n",
       " ('спб', 6.659458e-06),\n",
       " ('url:www.logicpir.ru/*', 6.6236544e-06),\n",
       " ('2019-06-01,206936,host:petrodecor.ru', 6.4959436e-06),\n",
       " ('спб\\n', 6.377381e-06)]"
      ]
     },
     "execution_count": 8,
     "metadata": {},
     "output_type": "execute_result"
    }
   ],
   "source": [
    "model.predict_output_word(['казань', \"продажа\"])"
   ]
  },
  {
   "cell_type": "code",
   "execution_count": null,
   "metadata": {},
   "outputs": [],
   "source": []
  }
 ],
 "metadata": {
  "kernelspec": {
   "display_name": "Python 3",
   "language": "python",
   "name": "python3"
  },
  "language_info": {
   "codemirror_mode": {
    "name": "ipython",
    "version": 3
   },
   "file_extension": ".py",
   "mimetype": "text/x-python",
   "name": "python",
   "nbconvert_exporter": "python",
   "pygments_lexer": "ipython3",
   "version": "3.7.3"
  }
 },
 "nbformat": 4,
 "nbformat_minor": 2
}
