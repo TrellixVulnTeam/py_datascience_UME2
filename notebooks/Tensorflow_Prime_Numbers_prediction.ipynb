{
 "cells": [
  {
   "cell_type": "code",
   "execution_count": 1,
   "metadata": {},
   "outputs": [],
   "source": [
    "from __future__ import absolute_import, division, print_function, unicode_literals\n",
    "\n",
    "import tensorflow as tf\n",
    "from tensorflow import keras\n",
    "from tensorflow.python.keras.callbacks import TensorBoard\n",
    "import numpy as np\n",
    "import pandas as pd\n",
    "import matplotlib.pyplot as plt\n",
    "from time import time"
   ]
  },
  {
   "cell_type": "code",
   "execution_count": 2,
   "metadata": {},
   "outputs": [
    {
     "name": "stdout",
     "output_type": "stream",
     "text": [
      "            Number is_prime  no_prime  yes_prime\n",
      "0                0   [0, 1]       1.0        0.0\n",
      "1                1   [0, 1]       1.0        0.0\n",
      "2                2   [0, 1]       0.0        1.0\n",
      "3                3   [0, 1]       0.0        1.0\n",
      "4                4   [0, 1]       1.0        0.0\n",
      "5                5   [0, 1]       0.0        1.0\n",
      "6                6   [0, 1]       1.0        0.0\n",
      "7                7   [0, 1]       0.0        1.0\n",
      "8                8   [0, 1]       1.0        0.0\n",
      "9                9   [0, 1]       1.0        0.0\n",
      "10              10   [0, 1]       1.0        0.0\n",
      "11              11   [0, 1]       0.0        1.0\n",
      "12              12   [0, 1]       1.0        0.0\n",
      "13              13   [0, 1]       0.0        1.0\n",
      "14              14   [0, 1]       1.0        0.0\n",
      "15              15   [0, 1]       1.0        0.0\n",
      "16              16   [0, 1]       1.0        0.0\n",
      "17              17   [0, 1]       0.0        1.0\n",
      "18              18   [0, 1]       1.0        0.0\n",
      "19              19   [0, 1]       0.0        1.0\n",
      "20              20   [0, 1]       1.0        0.0\n",
      "21              21   [0, 1]       1.0        0.0\n",
      "22              22   [0, 1]       1.0        0.0\n",
      "23              23   [0, 1]       0.0        1.0\n",
      "24              24   [0, 1]       1.0        0.0\n",
      "25              25   [0, 1]       1.0        0.0\n",
      "26              26   [0, 1]       1.0        0.0\n",
      "27              27   [0, 1]       1.0        0.0\n",
      "28              28   [0, 1]       1.0        0.0\n",
      "29              29   [0, 1]       0.0        1.0\n",
      "...            ...      ...       ...        ...\n",
      "15485834  15485834   [0, 1]       1.0        0.0\n",
      "15485835  15485835   [0, 1]       1.0        0.0\n",
      "15485836  15485836   [0, 1]       1.0        0.0\n",
      "15485837  15485837   [0, 1]       0.0        1.0\n",
      "15485838  15485838   [0, 1]       1.0        0.0\n",
      "15485839  15485839   [0, 1]       1.0        0.0\n",
      "15485840  15485840   [0, 1]       1.0        0.0\n",
      "15485841  15485841   [0, 1]       1.0        0.0\n",
      "15485842  15485842   [0, 1]       1.0        0.0\n",
      "15485843  15485843   [0, 1]       0.0        1.0\n",
      "15485844  15485844   [0, 1]       1.0        0.0\n",
      "15485845  15485845   [0, 1]       1.0        0.0\n",
      "15485846  15485846   [0, 1]       1.0        0.0\n",
      "15485847  15485847   [0, 1]       1.0        0.0\n",
      "15485848  15485848   [0, 1]       1.0        0.0\n",
      "15485849  15485849   [0, 1]       0.0        1.0\n",
      "15485850  15485850   [0, 1]       1.0        0.0\n",
      "15485851  15485851   [0, 1]       1.0        0.0\n",
      "15485852  15485852   [0, 1]       1.0        0.0\n",
      "15485853  15485853   [0, 1]       1.0        0.0\n",
      "15485854  15485854   [0, 1]       1.0        0.0\n",
      "15485855  15485855   [0, 1]       1.0        0.0\n",
      "15485856  15485856   [0, 1]       1.0        0.0\n",
      "15485857  15485857   [0, 1]       0.0        1.0\n",
      "15485858  15485858   [0, 1]       1.0        0.0\n",
      "15485859  15485859   [0, 1]       1.0        0.0\n",
      "15485860  15485860   [0, 1]       1.0        0.0\n",
      "15485861  15485861   [0, 1]       1.0        0.0\n",
      "15485862  15485862   [0, 1]       1.0        0.0\n",
      "15485863  15485863   [0, 1]       0.0        1.0\n",
      "\n",
      "[15485864 rows x 4 columns]\n"
     ]
    }
   ],
   "source": [
    "prime_numbers = pd.read_csv('/home/user/workspace/primes1.txt', header=None, delim_whitespace=True)\n",
    "prime_numbers = prime_numbers.values.flatten()\n",
    "prime_numbers = pd.Series(prime_numbers.transpose())\n",
    "prime_numbers_and_not = pd.DataFrame({\n",
    "    'PM': prime_numbers\n",
    "})\n",
    "datas_to_save = pd.DataFrame({\n",
    "    'Number': range(0, prime_numbers_and_not['PM'].iloc[-1]+1),\n",
    "    'is_prime': [ (np.array([0,1]))  for i in range(0, prime_numbers_and_not['PM'].iloc[-1]+1) ],\n",
    "    'no_prime': np.zeros(prime_numbers_and_not['PM'].iloc[-1]+1),\n",
    "    'yes_prime': np.zeros(prime_numbers_and_not['PM'].iloc[-1]+1)\n",
    "})\n",
    "datas_to_save.loc[datas_to_save['Number'].isin(prime_numbers_and_not['PM']),'yes_prime'] = 1\n",
    "datas_to_save.loc[~datas_to_save['Number'].isin(prime_numbers_and_not['PM']),'no_prime'] = 1\n",
    "\n",
    "print(datas_to_save)\n",
    "#training_dataset = tf.data.Dataset.from_tensor_slices((tf.cast(datas_to_save['Number'].values, tf.float32), tf.cast(datas_to_save['yes_prime'].values, tf.float32), tf.cast(datas_to_save['no_prime'].values, tf.float32), tf.convert_to_tensor(datas_to_save['is_prime'])))\n",
    "training_dataset = tf.data.Dataset.from_tensor_slices((tf.cast(datas_to_save['Number'].values, tf.float32), tf.cast(datas_to_save['yes_prime'].values, tf.float32), tf.cast(datas_to_save['no_prime'].values, tf.float32)))\n"
   ]
  },
  {
   "cell_type": "code",
   "execution_count": 3,
   "metadata": {},
   "outputs": [
    {
     "name": "stderr",
     "output_type": "stream",
     "text": [
      "WARNING: Logging before flag parsing goes to stderr.\n",
      "W0819 21:23:49.640138 140200512436032 deprecation.py:323] From <ipython-input-3-e483d74c8a60>:5: DatasetV1.make_one_shot_iterator (from tensorflow.python.data.ops.dataset_ops) is deprecated and will be removed in a future version.\n",
      "Instructions for updating:\n",
      "Use `for ... in dataset:` to iterate over a dataset. If using `tf.estimator`, return the `Dataset` object directly from your input function. As a last resort, you can use `tf.compat.v1.data.make_one_shot_iterator(dataset)`.\n"
     ]
    }
   ],
   "source": [
    "init = tf.initializers.global_variables()\n",
    "sess = tf.compat.v1.Session()\n",
    "sess.run(init)\n",
    "datas = training_dataset.shuffle(1000).batch(1000)\n",
    "iterator = datas.make_one_shot_iterator()"
   ]
  },
  {
   "cell_type": "code",
   "execution_count": 6,
   "metadata": {},
   "outputs": [
    {
     "name": "stdout",
     "output_type": "stream",
     "text": [
      "Tensor(\"IteratorGetNext_2:0\", shape=(?,), dtype=float32)\n"
     ]
    }
   ],
   "source": [
    "batch_xs, batch_ys1, batch_ys2 = iterator.get_next()\n",
    "print(batch_xs)"
   ]
  },
  {
   "cell_type": "code",
   "execution_count": null,
   "metadata": {},
   "outputs": [],
   "source": []
  }
 ],
 "metadata": {
  "kernelspec": {
   "display_name": "Python (datascience)",
   "language": "python",
   "name": "datascience"
  },
  "language_info": {
   "codemirror_mode": {
    "name": "ipython",
    "version": 3
   },
   "file_extension": ".py",
   "mimetype": "text/x-python",
   "name": "python",
   "nbconvert_exporter": "python",
   "pygments_lexer": "ipython3",
   "version": "3.7.3"
  }
 },
 "nbformat": 4,
 "nbformat_minor": 2
}
