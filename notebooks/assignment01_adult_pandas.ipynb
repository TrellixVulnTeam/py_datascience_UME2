{
 "cells": [
  {
   "cell_type": "markdown",
   "metadata": {},
   "source": [
    "<center>\n",
    "<img src=\"../../img/ods_stickers.jpg\">\n",
    "## Открытый курс по машинному обучению\n",
    "<center>\n",
    "Автор материала: Юрий Кашницкий, программист-исследователь Mail.Ru Group <br> \n",
    "\n",
    "Материал распространяется на условиях лицензии [Creative Commons CC BY-NC-SA 4.0](https://creativecommons.org/licenses/by-nc-sa/4.0/). Можно использовать в любых целях (редактировать, поправлять и брать за основу), кроме коммерческих, но с обязательным упоминанием автора материала."
   ]
  },
  {
   "cell_type": "markdown",
   "metadata": {},
   "source": [
    "# <center>Домашнее задание № 1 (демо).<br> Анализ данных по доходу населения UCI Adult</center>"
   ]
  },
  {
   "cell_type": "markdown",
   "metadata": {},
   "source": [
    "**В задании предлагается с помощью Pandas ответить на несколько вопросов по данным репозитория UCI [Adult](https://archive.ics.uci.edu/ml/datasets/Adult) (качать данные не надо – они уже есть в репозитории). Для отправки решений используйте [онлайн-форму](https://docs.google.com/forms/d/1xAzU-5N6oEeR4UG8G44V6XL-Kbr4WYcPBG45Kijge2Y).**"
   ]
  },
  {
   "cell_type": "markdown",
   "metadata": {},
   "source": [
    "Уникальные значения признаков (больше информации по ссылке выше):\n",
    "- age: continuous.\n",
    "- workclass: Private, Self-emp-not-inc, Self-emp-inc, Federal-gov, Local-gov, State-gov, Without-pay, Never-worked.\n",
    "- fnlwgt: continuous.\n",
    "- education: Bachelors, Some-college, 11th, HS-grad, Prof-school, Assoc-acdm, Assoc-voc, 9th, 7th-8th, 12th, Masters, 1st-4th, 10th, Doctorate, 5th-6th, Preschool.\n",
    "- education-num: continuous.\n",
    "- marital-status: Married-civ-spouse, Divorced, Never-married, Separated, Widowed, Married-spouse-absent, Married-AF-spouse.\n",
    "- occupation: Tech-support, Craft-repair, Other-service, Sales, Exec-managerial, Prof-specialty, Handlers-cleaners, Machine-op-inspct, Adm-clerical, Farming-fishing, Transport-moving, Priv-house-serv, Protective-serv, Armed-Forces.\n",
    "- relationship: Wife, Own-child, Husband, Not-in-family, Other-relative, Unmarried.\n",
    "- race: White, Asian-Pac-Islander, Amer-Indian-Eskimo, Other, Black.\n",
    "- sex: Female, Male.\n",
    "- capital-gain: continuous.\n",
    "- capital-loss: continuous.\n",
    "- hours-per-week: continuous.\n",
    "- native-country: United-States, Cambodia, England, Puerto-Rico, Canada, Germany, Outlying-US(Guam-USVI-etc), India, Japan, Greece, South, China, Cuba, Iran, Honduras, Philippines, Italy, Poland, Jamaica, Vietnam, Mexico, Portugal, Ireland, France, Dominican-Republic, Laos, Ecuador, Taiwan, Haiti, Columbia, Hungary, Guatemala, Nicaragua, Scotland, Thailand, Yugoslavia, El-Salvador, Trinadad&Tobago, Peru, Hong, Holand-Netherlands.   \n",
    "- salary: >50K,<=50K"
   ]
  },
  {
   "cell_type": "code",
   "execution_count": 2,
   "metadata": {},
   "outputs": [],
   "source": [
    "import pandas as pd\n",
    "import numpy as np"
   ]
  },
  {
   "cell_type": "code",
   "execution_count": 3,
   "metadata": {},
   "outputs": [
    {
     "data": {
      "text/html": [
       "<div>\n",
       "<style scoped>\n",
       "    .dataframe tbody tr th:only-of-type {\n",
       "        vertical-align: middle;\n",
       "    }\n",
       "\n",
       "    .dataframe tbody tr th {\n",
       "        vertical-align: top;\n",
       "    }\n",
       "\n",
       "    .dataframe thead th {\n",
       "        text-align: right;\n",
       "    }\n",
       "</style>\n",
       "<table border=\"1\" class=\"dataframe\">\n",
       "  <thead>\n",
       "    <tr style=\"text-align: right;\">\n",
       "      <th></th>\n",
       "      <th>age</th>\n",
       "      <th>workclass</th>\n",
       "      <th>fnlwgt</th>\n",
       "      <th>education</th>\n",
       "      <th>education-num</th>\n",
       "      <th>marital-status</th>\n",
       "      <th>occupation</th>\n",
       "      <th>relationship</th>\n",
       "      <th>race</th>\n",
       "      <th>sex</th>\n",
       "      <th>capital-gain</th>\n",
       "      <th>capital-loss</th>\n",
       "      <th>hours-per-week</th>\n",
       "      <th>native-country</th>\n",
       "      <th>salary</th>\n",
       "    </tr>\n",
       "  </thead>\n",
       "  <tbody>\n",
       "    <tr>\n",
       "      <th>0</th>\n",
       "      <td>39</td>\n",
       "      <td>State-gov</td>\n",
       "      <td>77516</td>\n",
       "      <td>Bachelors</td>\n",
       "      <td>13</td>\n",
       "      <td>Never-married</td>\n",
       "      <td>Adm-clerical</td>\n",
       "      <td>Not-in-family</td>\n",
       "      <td>White</td>\n",
       "      <td>Male</td>\n",
       "      <td>2174</td>\n",
       "      <td>0</td>\n",
       "      <td>40</td>\n",
       "      <td>United-States</td>\n",
       "      <td>&lt;=50K</td>\n",
       "    </tr>\n",
       "    <tr>\n",
       "      <th>1</th>\n",
       "      <td>50</td>\n",
       "      <td>Self-emp-not-inc</td>\n",
       "      <td>83311</td>\n",
       "      <td>Bachelors</td>\n",
       "      <td>13</td>\n",
       "      <td>Married-civ-spouse</td>\n",
       "      <td>Exec-managerial</td>\n",
       "      <td>Husband</td>\n",
       "      <td>White</td>\n",
       "      <td>Male</td>\n",
       "      <td>0</td>\n",
       "      <td>0</td>\n",
       "      <td>13</td>\n",
       "      <td>United-States</td>\n",
       "      <td>&lt;=50K</td>\n",
       "    </tr>\n",
       "    <tr>\n",
       "      <th>2</th>\n",
       "      <td>38</td>\n",
       "      <td>Private</td>\n",
       "      <td>215646</td>\n",
       "      <td>HS-grad</td>\n",
       "      <td>9</td>\n",
       "      <td>Divorced</td>\n",
       "      <td>Handlers-cleaners</td>\n",
       "      <td>Not-in-family</td>\n",
       "      <td>White</td>\n",
       "      <td>Male</td>\n",
       "      <td>0</td>\n",
       "      <td>0</td>\n",
       "      <td>40</td>\n",
       "      <td>United-States</td>\n",
       "      <td>&lt;=50K</td>\n",
       "    </tr>\n",
       "    <tr>\n",
       "      <th>3</th>\n",
       "      <td>53</td>\n",
       "      <td>Private</td>\n",
       "      <td>234721</td>\n",
       "      <td>11th</td>\n",
       "      <td>7</td>\n",
       "      <td>Married-civ-spouse</td>\n",
       "      <td>Handlers-cleaners</td>\n",
       "      <td>Husband</td>\n",
       "      <td>Black</td>\n",
       "      <td>Male</td>\n",
       "      <td>0</td>\n",
       "      <td>0</td>\n",
       "      <td>40</td>\n",
       "      <td>United-States</td>\n",
       "      <td>&lt;=50K</td>\n",
       "    </tr>\n",
       "    <tr>\n",
       "      <th>4</th>\n",
       "      <td>28</td>\n",
       "      <td>Private</td>\n",
       "      <td>338409</td>\n",
       "      <td>Bachelors</td>\n",
       "      <td>13</td>\n",
       "      <td>Married-civ-spouse</td>\n",
       "      <td>Prof-specialty</td>\n",
       "      <td>Wife</td>\n",
       "      <td>Black</td>\n",
       "      <td>Female</td>\n",
       "      <td>0</td>\n",
       "      <td>0</td>\n",
       "      <td>40</td>\n",
       "      <td>Cuba</td>\n",
       "      <td>&lt;=50K</td>\n",
       "    </tr>\n",
       "  </tbody>\n",
       "</table>\n",
       "</div>"
      ],
      "text/plain": [
       "   age         workclass  fnlwgt  education  education-num  \\\n",
       "0   39         State-gov   77516  Bachelors             13   \n",
       "1   50  Self-emp-not-inc   83311  Bachelors             13   \n",
       "2   38           Private  215646    HS-grad              9   \n",
       "3   53           Private  234721       11th              7   \n",
       "4   28           Private  338409  Bachelors             13   \n",
       "\n",
       "       marital-status         occupation   relationship   race     sex  \\\n",
       "0       Never-married       Adm-clerical  Not-in-family  White    Male   \n",
       "1  Married-civ-spouse    Exec-managerial        Husband  White    Male   \n",
       "2            Divorced  Handlers-cleaners  Not-in-family  White    Male   \n",
       "3  Married-civ-spouse  Handlers-cleaners        Husband  Black    Male   \n",
       "4  Married-civ-spouse     Prof-specialty           Wife  Black  Female   \n",
       "\n",
       "   capital-gain  capital-loss  hours-per-week native-country salary  \n",
       "0          2174             0              40  United-States  <=50K  \n",
       "1             0             0              13  United-States  <=50K  \n",
       "2             0             0              40  United-States  <=50K  \n",
       "3             0             0              40  United-States  <=50K  \n",
       "4             0             0              40           Cuba  <=50K  "
      ]
     },
     "execution_count": 3,
     "metadata": {},
     "output_type": "execute_result"
    }
   ],
   "source": [
    "data = pd.read_csv('../../data/adult.data.csv')\n",
    "data.head()"
   ]
  },
  {
   "cell_type": "markdown",
   "metadata": {},
   "source": [
    "**1. Сколько мужчин и женщин (признак *sex*) представлено в этом наборе данных?**"
   ]
  },
  {
   "cell_type": "code",
   "execution_count": 4,
   "metadata": {},
   "outputs": [
    {
     "name": "stdout",
     "output_type": "stream",
     "text": [
      "Мужчин: 10771\n",
      "Женщин: 21790\n"
     ]
    }
   ],
   "source": [
    "# Ваш код здесь\n",
    "print('Мужчин: ' +str(np.sum(data['sex'] == 'Female')))\n",
    "print('Женщин: ' + str( np.sum(data['sex'] == 'Male')))"
   ]
  },
  {
   "cell_type": "markdown",
   "metadata": {},
   "source": [
    "**2. Каков средний возраст (признак *age*) женщин?**"
   ]
  },
  {
   "cell_type": "code",
   "execution_count": 19,
   "metadata": {},
   "outputs": [
    {
     "data": {
      "text/plain": [
       "36.85823043357163"
      ]
     },
     "execution_count": 19,
     "metadata": {},
     "output_type": "execute_result"
    }
   ],
   "source": [
    "# Ваш код здесь\n",
    "\n",
    "#data['age'].mean()\n",
    "female_data = data.loc[data['sex'] == 'Female']\n",
    "female_data['age'].mean()"
   ]
  },
  {
   "cell_type": "markdown",
   "metadata": {},
   "source": [
    "**3. Какова доля граждан Германии (признак *native-country*)?**"
   ]
  },
  {
   "cell_type": "code",
   "execution_count": 25,
   "metadata": {},
   "outputs": [
    {
     "data": {
      "text/plain": [
       "0.004207487485028101"
      ]
     },
     "execution_count": 25,
     "metadata": {},
     "output_type": "execute_result"
    }
   ],
   "source": [
    "# Ваш код здесь\n",
    "germany_data = data.loc[data['native-country'] == 'Germany']\n",
    "germany_data.shape[0]/data.shape[0]"
   ]
  },
  {
   "cell_type": "markdown",
   "metadata": {},
   "source": [
    "**4-5. Каковы средние значения и среднеквадратичные отклонения возраста тех, кто получает более 50K в год (признак *salary*) и тех, кто получает менее 50K в год? **"
   ]
  },
  {
   "cell_type": "code",
   "execution_count": 59,
   "metadata": {},
   "outputs": [
    {
     "data": {
      "text/plain": [
       "(14.02008849082488, 10.519027719851826)"
      ]
     },
     "execution_count": 59,
     "metadata": {},
     "output_type": "execute_result"
    }
   ],
   "source": [
    "# Ваш код здесь\n",
    "def my_std(data, mean):\n",
    "    x_minus_mean = (data - mean)**2\n",
    "    x_minus_mean_square = (x_minus_mean.sum()/(x_minus_mean.shape[0]-1))**0.5\n",
    "    print(x_minus_mean_square)\n",
    "less_50 = data.loc[data['salary'] == '<=50K']\n",
    "more_50 = data.loc[data['salary'] == '>50K']\n",
    "less_50_mean = less_50['age'].mean()\n",
    "# more_50_mean = more_50.mean()\n",
    "less_50['age'].std(), more_50['age'].std()\n",
    "#my_std(less_50['age'], less_50_mean)"
   ]
  },
  {
   "cell_type": "markdown",
   "metadata": {},
   "source": [
    "**6. Правда ли, что люди, которые получают больше 50k, имеют как минимум высшее образование? (признак *education – Bachelors, Prof-school, Assoc-acdm, Assoc-voc, Masters* или *Doctorate*)**"
   ]
  },
  {
   "cell_type": "code",
   "execution_count": 67,
   "metadata": {},
   "outputs": [
    {
     "data": {
      "text/plain": [
       "False"
      ]
     },
     "execution_count": 67,
     "metadata": {},
     "output_type": "execute_result"
    }
   ],
   "source": [
    "# Ваш код здесь\n",
    "education_values = ['Bachelors', 'Prof-school', 'Assoc-acdm', 'Assoc-voc', 'Masters', 'Doctorate']\n",
    "more_50 = data.loc[data['salary'] == '>50K']\n",
    "more_50.loc[more_50['education'].isin(education_values)].shape[0] == more_50.shape[0]"
   ]
  },
  {
   "cell_type": "markdown",
   "metadata": {},
   "source": [
    "**7. Выведите статистику возраста для каждой расы (признак *race*) и каждого пола. Используйте *groupby* и *describe*. Найдите таким образом максимальный возраст мужчин расы *Amer-Indian-Eskimo*.**"
   ]
  },
  {
   "cell_type": "code",
   "execution_count": 91,
   "metadata": {},
   "outputs": [
    {
     "name": "stdout",
     "output_type": "stream",
     "text": [
      "age                               82\n",
      "workclass                  State-gov\n",
      "fnlwgt                        445168\n",
      "education               Some-college\n",
      "education-num                     16\n",
      "marital-status               Widowed\n",
      "occupation          Transport-moving\n",
      "relationship                    Wife\n",
      "race              Amer-Indian-Eskimo\n",
      "sex                             Male\n",
      "capital-gain                   27828\n",
      "capital-loss                    1980\n",
      "hours-per-week                    84\n",
      "native-country         United-States\n",
      "salary                          >50K\n",
      "dtype: object\n",
      "age              NaN\n",
      "workclass        NaN\n",
      "fnlwgt           NaN\n",
      "education        NaN\n",
      "education-num    NaN\n",
      "marital-status   NaN\n",
      "occupation       NaN\n",
      "relationship     NaN\n",
      "race             NaN\n",
      "sex              NaN\n",
      "capital-gain     NaN\n",
      "capital-loss     NaN\n",
      "hours-per-week   NaN\n",
      "native-country   NaN\n",
      "salary           NaN\n",
      "dtype: float64\n",
      "age              NaN\n",
      "workclass        NaN\n",
      "fnlwgt           NaN\n",
      "education        NaN\n",
      "education-num    NaN\n",
      "marital-status   NaN\n",
      "occupation       NaN\n",
      "relationship     NaN\n",
      "race             NaN\n",
      "sex              NaN\n",
      "capital-gain     NaN\n",
      "capital-loss     NaN\n",
      "hours-per-week   NaN\n",
      "native-country   NaN\n",
      "salary           NaN\n",
      "dtype: float64\n",
      "age              NaN\n",
      "workclass        NaN\n",
      "fnlwgt           NaN\n",
      "education        NaN\n",
      "education-num    NaN\n",
      "marital-status   NaN\n",
      "occupation       NaN\n",
      "relationship     NaN\n",
      "race             NaN\n",
      "sex              NaN\n",
      "capital-gain     NaN\n",
      "capital-loss     NaN\n",
      "hours-per-week   NaN\n",
      "native-country   NaN\n",
      "salary           NaN\n",
      "dtype: float64\n",
      "age              NaN\n",
      "workclass        NaN\n",
      "fnlwgt           NaN\n",
      "education        NaN\n",
      "education-num    NaN\n",
      "marital-status   NaN\n",
      "occupation       NaN\n",
      "relationship     NaN\n",
      "race             NaN\n",
      "sex              NaN\n",
      "capital-gain     NaN\n",
      "capital-loss     NaN\n",
      "hours-per-week   NaN\n",
      "native-country   NaN\n",
      "salary           NaN\n",
      "dtype: float64\n"
     ]
    }
   ],
   "source": [
    "# Ваш код здесь\n",
    "grouped = data.groupby('race')\n",
    "grouped.mean()\n",
    "for (i, sub_df) in grouped:\n",
    "    sub_df.describe()\n",
    "    print(sub_df.loc[sub_df['race'] == 'Amer-Indian-Eskimo'].max())"
   ]
  },
  {
   "cell_type": "markdown",
   "metadata": {},
   "source": [
    "**8. Среди кого больше доля зарабатывающих много (>50K): среди женатых или холостых мужчин (признак *marital-status*)? Женатыми считаем тех, у кого *marital-status* начинается с *Married* (Married-civ-spouse, Married-spouse-absent или Married-AF-spouse), остальных считаем холостыми.**"
   ]
  },
  {
   "cell_type": "code",
   "execution_count": 109,
   "metadata": {},
   "outputs": [
    {
     "name": "stdout",
     "output_type": "stream",
     "text": [
      "Married more\n"
     ]
    }
   ],
   "source": [
    "# Ваш код здесь\n",
    "#grouped = data.groupby('salary')\n",
    "married = data.loc[data['marital-status'].str.startswith('Married') & (data['salary'] == '>50K')]\n",
    "not_married = data.loc[~data['marital-status'].str.startswith('Married') & (data['salary'] == '>50K')]\n",
    "if married.shape[0] > not_married.shape[0]:\n",
    "    print('Married more')\n",
    "else:\n",
    "    print('Not Married more')\n",
    "# for i, sub_df in grouped:\n",
    "#     print(sub_df.loc[sub_df['marital-status'].str.startswith('Married')])"
   ]
  },
  {
   "cell_type": "markdown",
   "metadata": {},
   "source": [
    "**9. Какое максимальное число часов человек работает в неделю (признак *hours-per-week*)? Сколько людей работают такое количество часов и каков среди них процент зарабатывающих много?**"
   ]
  },
  {
   "cell_type": "code",
   "execution_count": 117,
   "metadata": {},
   "outputs": [
    {
     "name": "stdout",
     "output_type": "stream",
     "text": [
      "Maximal working hours per week is: 99\n"
     ]
    },
    {
     "data": {
      "text/plain": [
       "0.29411764705882354"
      ]
     },
     "execution_count": 117,
     "metadata": {},
     "output_type": "execute_result"
    }
   ],
   "source": [
    "# Ваш код здесь\n",
    "print('Maximal working hours per week is: %s' %(data['hours-per-week'].max()))\n",
    "max_work_people = data.loc[data['hours-per-week'] == data['hours-per-week'].max()]\n",
    "max_work_people_count = max_work_people.shape[0]\n",
    "max_work_people.loc[data['salary'] == '>50K'].shape[0]/max_work_people.shape[0]"
   ]
  },
  {
   "cell_type": "markdown",
   "metadata": {},
   "source": [
    "**10. Посчитайте среднее время работы (*hours-per-week*) зарабатывающих мало и много (*salary*) для каждой страны (*native-country*).**"
   ]
  },
  {
   "cell_type": "code",
   "execution_count": 124,
   "metadata": {},
   "outputs": [
    {
     "name": "stdout",
     "output_type": "stream",
     "text": [
      "40.16475972540046\n",
      "45.54794520547945\n",
      "41.416666666666664\n",
      "40.0\n",
      "37.91463414634146\n",
      "45.64102564102564\n",
      "37.38181818181818\n",
      "38.9\n",
      "38.68421052631579\n",
      "50.0\n",
      "37.98571428571429\n",
      "42.44\n",
      "42.338235294117645\n",
      "47.0\n",
      "38.041666666666664\n",
      "48.75\n",
      "36.03092783505155\n",
      "45.0\n",
      "40.483333333333334\n",
      "44.53333333333333\n",
      "41.05882352941177\n",
      "50.75\n",
      "39.13978494623656\n",
      "44.97727272727273\n",
      "41.80952380952381\n",
      "50.625\n",
      "39.36065573770492\n",
      "36.666666666666664\n",
      "36.325\n",
      "42.75\n",
      "40.0\n",
      "nan\n",
      "34.333333333333336\n",
      "60.0\n",
      "39.142857142857146\n",
      "45.0\n",
      "31.3\n",
      "50.0\n",
      "38.233333333333334\n",
      "46.475\n",
      "41.44\n",
      "47.5\n",
      "40.94736842105263\n",
      "48.0\n",
      "39.625\n",
      "45.4\n",
      "38.23943661971831\n",
      "41.1\n",
      "41.0\n",
      "47.958333333333336\n",
      "40.375\n",
      "40.0\n",
      "40.00327868852459\n",
      "46.57575757575758\n",
      "36.09375\n",
      "37.5\n",
      "41.857142857142854\n",
      "nan\n",
      "35.06896551724138\n",
      "40.0\n",
      "38.065693430656935\n",
      "43.032786885245905\n",
      "38.166666666666664\n",
      "39.0\n",
      "41.93939393939394\n",
      "41.5\n",
      "38.470588235294116\n",
      "39.416666666666664\n",
      "39.44444444444444\n",
      "46.666666666666664\n",
      "40.15625\n",
      "51.4375\n",
      "33.774193548387096\n",
      "46.8\n",
      "42.86666666666667\n",
      "58.333333333333336\n",
      "37.05882352941177\n",
      "40.0\n",
      "38.79912723305605\n",
      "45.50536884674383\n",
      "37.193548387096776\n",
      "39.2\n",
      "41.6\n",
      "49.5\n"
     ]
    }
   ],
   "source": [
    "# Ваш код здесь\n",
    "grouped = data.groupby('native-country')\n",
    "for (i, sub_df) in grouped:\n",
    "    less_50 = sub_df.loc[sub_df['salary'] == '<=50K']\n",
    "    more_50 = sub_df.loc[sub_df['salary'] == '>50K']\n",
    "    print(less_50['hours-per-week'].mean())\n",
    "    print(more_50['hours-per-week'].mean())\n"
   ]
  },
  {
   "cell_type": "code",
   "execution_count": null,
   "metadata": {},
   "outputs": [],
   "source": []
  }
 ],
 "metadata": {
  "anaconda-cloud": {},
  "kernelspec": {
   "display_name": "Python (qiskit)",
   "language": "python",
   "name": "qiskit"
  },
  "language_info": {
   "codemirror_mode": {
    "name": "ipython",
    "version": 3
   },
   "file_extension": ".py",
   "mimetype": "text/x-python",
   "name": "python",
   "nbconvert_exporter": "python",
   "pygments_lexer": "ipython3",
   "version": "3.7.3"
  }
 },
 "nbformat": 4,
 "nbformat_minor": 1
}
