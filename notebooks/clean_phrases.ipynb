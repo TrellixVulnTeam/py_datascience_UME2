{
 "cells": [
  {
   "cell_type": "code",
   "execution_count": 3,
   "metadata": {},
   "outputs": [],
   "source": [
    "phrases_dirty_path = \"G:\\\\New folder\\\\phrases_201909041136.csv\"\n",
    "phrases_clean_path = \"G:\\\\New folder\\\\phrases_201909041136_clean.csv\"\n",
    "sequences = []\n",
    "with open(phrases_clean_path, \"a\", encoding='utf-8') as write_f:\n",
    "    with open(phrases_dirty_path, encoding='utf-8') as read_f:\n",
    "        for line in read_f: \n",
    "            write_f.write(line.split(\",\")[2].replace(\"+\", \"\"))"
   ]
  }
 ],
 "metadata": {
  "kernelspec": {
   "display_name": "Python 3",
   "language": "python",
   "name": "python3"
  },
  "language_info": {
   "codemirror_mode": {
    "name": "ipython",
    "version": 3
   },
   "file_extension": ".py",
   "mimetype": "text/x-python",
   "name": "python",
   "nbconvert_exporter": "python",
   "pygments_lexer": "ipython3",
   "version": "3.7.3"
  }
 },
 "nbformat": 4,
 "nbformat_minor": 2
}
