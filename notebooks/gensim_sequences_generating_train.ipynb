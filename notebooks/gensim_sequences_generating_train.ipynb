{
 "cells": [
  {
   "cell_type": "code",
   "execution_count": 1,
   "metadata": {},
   "outputs": [
    {
     "data": {
      "text/plain": [
       "123"
      ]
     },
     "execution_count": 1,
     "metadata": {},
     "output_type": "execute_result"
    }
   ],
   "source": [
    "import gensim\n",
    "import pymorphy2\n",
    "import datetime\n",
    "import time\n",
    "import os\n",
    "import logging\n",
    "file_path = \"G:\\\\New folder\\\\subfile\\\\month-2011-12-qtraf_0_2\"\n",
    "model_save_path = \"G:\\\\New folder\\\\models\\\\gensim\\\\phrases_45MB_model_clean\"\n",
    "train_log_path = \"G:\\\\New folder\\\\logs\\\\gensim_train_log.txt\"\n",
    "\n",
    "log_file = open(train_log_path, \"a\")\n",
    "log_file.write(\"Training Dataset :Name: %s :Size: %s :Date: %s \\n\" %(file_path, os.path.getsize(file_path), datetime.datetime.now()))"
   ]
  },
  {
   "cell_type": "code",
   "execution_count": 2,
   "metadata": {},
   "outputs": [],
   "source": []
  },
  {
   "cell_type": "code",
   "execution_count": 3,
   "metadata": {},
   "outputs": [
    {
     "name": "stdout",
     "output_type": "stream",
     "text": [
      "Big file dividing started\n",
      "\n",
      "File G:\\New folder\\subfile\\month-2011-12-qtraf_0_2_0 done with 3000001 lines\n",
      "File G:\\New folder\\subfile\\month-2011-12-qtraf_0_2_1 done with 3000001 lines\n",
      "File G:\\New folder\\subfile\\month-2011-12-qtraf_0_2_2 done with 3000001 lines\n",
      "File G:\\New folder\\subfile\\month-2011-12-qtraf_0_2_3 done with 3000001 lines\n",
      "File G:\\New folder\\subfile\\month-2011-12-qtraf_0_2_4 done with 3000001 lines\n",
      "File G:\\New folder\\subfile\\month-2011-12-qtraf_0_2_5 done with 3000001 lines\n",
      "File G:\\New folder\\subfile\\month-2011-12-qtraf_0_2_6 done with 3000001 lines\n",
      "File G:\\New folder\\subfile\\month-2011-12-qtraf_0_2_7 done with 3000001 lines\n",
      "File G:\\New folder\\subfile\\month-2011-12-qtraf_0_2_8 done with 3000001 lines\n",
      "File G:\\New folder\\subfile\\month-2011-12-qtraf_0_2_9 done with 3000001 lines\n",
      "File G:\\New folder\\subfile\\month-2011-12-qtraf_0_2_10 done with 3000001 lines\n",
      "File G:\\New folder\\subfile\\month-2011-12-qtraf_0_2_11 done with 3000001 lines\n",
      "File G:\\New folder\\subfile\\month-2011-12-qtraf_0_2_12 done with 3000001 lines\n",
      "File G:\\New folder\\subfile\\month-2011-12-qtraf_0_2_13 done with 3000001 lines\n",
      "File G:\\New folder\\subfile\\month-2011-12-qtraf_0_2_14 done with 3000001 lines\n",
      "File G:\\New folder\\subfile\\month-2011-12-qtraf_0_2_15 done with 3000001 lines\n",
      "File G:\\New folder\\subfile\\month-2011-12-qtraf_0_2_16 done with 3000001 lines\n",
      "File G:\\New folder\\subfile\\month-2011-12-qtraf_0_2_17 done with 3000001 lines\n",
      "File G:\\New folder\\subfile\\month-2011-12-qtraf_0_2_18 done with 3000001 lines\n",
      "File G:\\New folder\\subfile\\month-2011-12-qtraf_0_2_19 done with 3000001 lines\n",
      "File G:\\New folder\\subfile\\month-2011-12-qtraf_0_2_20 done with 3000001 lines\n",
      "File G:\\New folder\\subfile\\month-2011-12-qtraf_0_2_21 done with 3000001 lines\n",
      "File G:\\New folder\\subfile\\month-2011-12-qtraf_0_2_22 done with 3000001 lines\n",
      "File G:\\New folder\\subfile\\month-2011-12-qtraf_0_2_23 done with 3000001 lines\n",
      "File G:\\New folder\\subfile\\month-2011-12-qtraf_0_2_24 done with 3000001 lines\n",
      "File G:\\New folder\\subfile\\month-2011-12-qtraf_0_2_25 done with 3000001 lines\n",
      "File G:\\New folder\\subfile\\month-2011-12-qtraf_0_2_26 done with 3000001 lines\n",
      "File G:\\New folder\\subfile\\month-2011-12-qtraf_0_2_27 done with 3000001 lines\n",
      "File G:\\New folder\\subfile\\month-2011-12-qtraf_0_2_28 done with 3000001 lines\n",
      "File G:\\New folder\\subfile\\month-2011-12-qtraf_0_2_29 done with 3000001 lines\n",
      "File G:\\New folder\\subfile\\month-2011-12-qtraf_0_2_30 done with 3000001 lines\n",
      "File G:\\New folder\\subfile\\month-2011-12-qtraf_0_2_31 done with 3000001 lines\n",
      "File G:\\New folder\\subfile\\month-2011-12-qtraf_0_2_32 done with 3000001 lines\n",
      "Job for file 'G:\\New folder\\subfile\\month-2011-12-qtraf_0_2' is Done\n"
     ]
    }
   ],
   "source": [
    "divide_big_file_to_series(file_path, 3000000)"
   ]
  },
  {
   "cell_type": "code",
   "execution_count": 3,
   "metadata": {},
   "outputs": [],
   "source": [
    "def train_model_on_dataset(model, dataset_path, update_vocabulary=False):\n",
    "    sequences = []\n",
    "    with open(dataset_path) as read_f:\n",
    "        for line in read_f: \n",
    "            sequences.append(line.split(\" \"))\n",
    "    print(len(sequences))\n",
    "#     start_time = time.time()\n",
    "    print(\"Now train on %s \\n\" % (dataset_path))\n",
    "    model.build_vocab(sequences, update=update_vocabulary)\n",
    "    model.train(sequences, total_examples=model.corpus_count, epochs=model.iter)\n",
    "#     end_time = time.time() - start_time\n",
    "#     log_file.write(\"Elapsed time: %s secs.\", %(end_time))\n",
    "    return model"
   ]
  },
  {
   "cell_type": "code",
   "execution_count": 4,
   "metadata": {},
   "outputs": [],
   "source": [
    "def train_new_model_by_dataset(model, dataset_path, save_model_path, postfix):\n",
    "    start_time = time.time()\n",
    "    if postfix:\n",
    "        for i in range(4):\n",
    "            next_series_fn = dataset_path + postfix + str(i)\n",
    "            if os.path.exists(next_series_fn):\n",
    "                if i == 0:\n",
    "                    model = train_model_on_dataset(model, next_series_fn, update_vocabulary=False)\n",
    "                else:\n",
    "                    model = train_model_on_dataset(model, next_series_fn, update_vocabulary=True)                    \n",
    "            else:\n",
    "                break\n",
    "    print(\"Train is ended\\n\")\n",
    "    model.save(save_model_path)\n",
    "    print(\"Model saved on: %s \\n\" %(save_model_path))\n",
    "    end_time = time.time() - start_time\n",
    "    log_file.write(\"Elapsed time: %s\" %(end_time))"
   ]
  },
  {
   "cell_type": "code",
   "execution_count": 5,
   "metadata": {},
   "outputs": [
    {
     "name": "stdout",
     "output_type": "stream",
     "text": [
      "3000001\n",
      "Now train on G:\\New folder\\subfile\\month-2011-12-qtraf_0_2_0 \n",
      "\n"
     ]
    },
    {
     "name": "stderr",
     "output_type": "stream",
     "text": [
      "C:\\Users\\user\\Anaconda3\\lib\\site-packages\\ipykernel_launcher.py:10: DeprecationWarning: Call to deprecated `iter` (Attribute will be removed in 4.0.0, use self.epochs instead).\n",
      "  # Remove the CWD from sys.path while we load stuff.\n"
     ]
    },
    {
     "name": "stdout",
     "output_type": "stream",
     "text": [
      "3000001\n",
      "Now train on G:\\New folder\\subfile\\month-2011-12-qtraf_0_2_1 \n",
      "\n",
      "3000001\n",
      "Now train on G:\\New folder\\subfile\\month-2011-12-qtraf_0_2_2 \n",
      "\n",
      "3000001\n",
      "Now train on G:\\New folder\\subfile\\month-2011-12-qtraf_0_2_3 \n",
      "\n",
      "Train is ended\n",
      "\n",
      "Model saved on: G:\\New folder\\models\\gensim\\phrases_45MB_model_clean \n",
      "\n"
     ]
    }
   ],
   "source": [
    "model = gensim.models.Word2Vec(min_count=1)\n",
    "train_new_model_by_dataset(model, file_path, save_model_path=model_save_path, postfix=\"_\")"
   ]
  },
  {
   "cell_type": "code",
   "execution_count": 7,
   "metadata": {},
   "outputs": [
    {
     "data": {
      "text/plain": [
       "[('новую', 0.037348244),\n",
       " ('объявления\\n', 0.008819848),\n",
       " ('квартиру\\n', 0.0055730003),\n",
       " ('гараж', 0.0023823075),\n",
       " ('квартир\\n', 0.002305682),\n",
       " ('рассрочку\\n', 0.002179205),\n",
       " ('б/у\\n', 0.0020457283),\n",
       " ('авито\\n', 0.0017980275),\n",
       " ('квартиры\\n', 0.0014876057),\n",
       " ('новостройке', 0.0014302101)]"
      ]
     },
     "execution_count": 7,
     "metadata": {},
     "output_type": "execute_result"
    }
   ],
   "source": [
    "log_file.close()\n",
    "model.predict_output_word(['казань', \"покупка\", \"квартиры\"])"
   ]
  },
  {
   "cell_type": "code",
   "execution_count": null,
   "metadata": {},
   "outputs": [],
   "source": []
  }
 ],
 "metadata": {
  "kernelspec": {
   "display_name": "Python 3",
   "language": "python",
   "name": "python3"
  },
  "language_info": {
   "codemirror_mode": {
    "name": "ipython",
    "version": 3
   },
   "file_extension": ".py",
   "mimetype": "text/x-python",
   "name": "python",
   "nbconvert_exporter": "python",
   "pygments_lexer": "ipython3",
   "version": "3.7.3"
  }
 },
 "nbformat": 4,
 "nbformat_minor": 2
}
