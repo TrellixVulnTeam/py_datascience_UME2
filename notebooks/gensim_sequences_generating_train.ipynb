{
 "cells": [
  {
   "cell_type": "code",
   "execution_count": 1,
   "metadata": {},
   "outputs": [],
   "source": [
    "import gensim\n",
    "import pymorphy2\n",
    "import datetime\n",
    "import time\n",
    "import os\n",
    "import logging\n",
    "train_log_path = \"G:\\\\New folder\\\\logs\\\\train\\\\gensim_train_log.txt\""
   ]
  },
  {
   "cell_type": "code",
   "execution_count": 9,
   "metadata": {},
   "outputs": [
    {
     "name": "stdout",
     "output_type": "stream",
     "text": [
      "591942\n"
     ]
    }
   ],
   "source": [
    "file_path = \"G:\\\\New folder\\\\month-2011-12-qtraf_0_2\"\n",
    "sequences = []\n",
    "with open(file_path, encoding=\"utf-8\") as read_f:\n",
    "    for line in read_f: \n",
    "        sequences.append(line.split(\" \"))\n",
    "print(len(sequences))"
   ]
  },
  {
   "cell_type": "code",
   "execution_count": 10,
   "metadata": {},
   "outputs": [
    {
     "name": "stderr",
     "output_type": "stream",
     "text": [
      "C:\\Users\\user\\Anaconda3\\lib\\site-packages\\ipykernel_launcher.py:3: DeprecationWarning: Call to deprecated `iter` (Attribute will be removed in 4.0.0, use self.epochs instead).\n",
      "  This is separate from the ipykernel package so we can avoid doing imports until\n"
     ]
    },
    {
     "data": {
      "text/plain": [
       "(12191261, 12950475)"
      ]
     },
     "execution_count": 10,
     "metadata": {},
     "output_type": "execute_result"
    }
   ],
   "source": [
    "start_time = time.time()\n",
    "model = gensim.models.Word2Vec(min_count=1)\n",
    "model.build_vocab(sequences)\n",
    "model.train(sequences, total_examples=model.corpus_count, epochs=model.iter)\n",
    "end_time = time.time() - start_time"
   ]
  },
  {
   "cell_type": "code",
   "execution_count": 11,
   "metadata": {},
   "outputs": [],
   "source": [
    "model.save(\"G:\\\\New folder\\\\models\\\\gensim\\\\phrases_45MB_model_clean\")"
   ]
  },
  {
   "cell_type": "code",
   "execution_count": 12,
   "metadata": {},
   "outputs": [
    {
     "data": {
      "text/plain": [
       "[('санкт', 0.000431386),\n",
       " ('мебели', 0.00020879928),\n",
       " ('мебели\\n', 0.00018138142),\n",
       " ('оптовая', 0.00017531957),\n",
       " ('петербурге\\n', 0.00017296449),\n",
       " ('россии\\n', 0.00016610822),\n",
       " ('спб', 0.00016186378),\n",
       " ('московской', 0.00015405337),\n",
       " ('области\\n', 0.00014456252),\n",
       " ('одежды\\n', 0.00014212402)]"
      ]
     },
     "execution_count": 12,
     "metadata": {},
     "output_type": "execute_result"
    }
   ],
   "source": [
    "model.predict_output_word(['казань', \"продажа\"])"
   ]
  },
  {
   "cell_type": "code",
   "execution_count": null,
   "metadata": {},
   "outputs": [],
   "source": []
  }
 ],
 "metadata": {
  "kernelspec": {
   "display_name": "Python 3",
   "language": "python",
   "name": "python3"
  },
  "language_info": {
   "codemirror_mode": {
    "name": "ipython",
    "version": 3
   },
   "file_extension": ".py",
   "mimetype": "text/x-python",
   "name": "python",
   "nbconvert_exporter": "python",
   "pygments_lexer": "ipython3",
   "version": "3.7.3"
  }
 },
 "nbformat": 4,
 "nbformat_minor": 2
}
