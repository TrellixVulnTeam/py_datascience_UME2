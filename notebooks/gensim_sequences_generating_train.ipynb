{
 "cells": [
  {
   "cell_type": "code",
   "execution_count": 1,
   "metadata": {},
   "outputs": [
    {
     "data": {
      "text/plain": [
       "123"
      ]
     },
     "execution_count": 1,
     "metadata": {},
     "output_type": "execute_result"
    }
   ],
   "source": [
    "import gensim\n",
    "import pymorphy2\n",
    "import datetime\n",
    "import time\n",
    "import os\n",
    "import logging\n",
    "file_path = \"G:\\\\New folder\\\\subfile\\\\month-2011-12-qtraf_0_2\"\n",
    "model_save_path = \"G:\\\\New folder\\\\models\\\\gensim\\\\phrases_45MB_model_clean\"\n",
    "train_log_path = \"G:\\\\New folder\\\\logs\\\\gensim_train_log.txt\"\n",
    "\n",
    "log_file = open(train_log_path, \"a\")\n",
    "log_file.write(\"Training Dataset :Name: %s :Size: %s :Date: %s \\n\" %(file_path, os.path.getsize(file_path), datetime.datetime.now()))"
   ]
  },
  {
   "cell_type": "code",
   "execution_count": 2,
   "metadata": {},
   "outputs": [],
   "source": [
    "def divide_big_file_to_series(file_name = \"\", lines_count = 1000000):\n",
    "    lines_counter = 0\n",
    "    current_little_file_postfix = 0\n",
    "    write_f_name = file_name + \"_\" + str(current_little_file_postfix)\n",
    "    write_f = open(write_f_name, \"a\")\n",
    "    print(\"Big file dividing started\\n\")\n",
    "    with open(file_name) as open_f:\n",
    "        #create new file\n",
    "        for line in open_f:\n",
    "            if lines_counter > lines_count:\n",
    "                write_f.close()\n",
    "                print(\"File %s done with %s lines\\n\" %(write_f_name, str(lines_counter)))\n",
    "                current_little_file_postfix += 1\n",
    "                write_f_name = file_name + \"_\" + str(current_little_file_postfix)\n",
    "                write_f = open(write_f_name, \"a\")\n",
    "                lines_counter = 0\n",
    "            write_f.write(line)\n",
    "            lines_counter += 1\n",
    "        write_f.close()\n",
    "        print(\"Job for file '%s' is Done\\n\" %(file_name))"
   ]
  },
  {
   "cell_type": "code",
   "execution_count": 3,
   "metadata": {},
   "outputs": [
    {
     "name": "stdout",
     "output_type": "stream",
     "text": [
      "Big file dividing started\n",
      "\n",
      "File G:\\New folder\\subfile\\month-2011-12-qtraf_0_2_0 done with 3000001 lines\n",
      "File G:\\New folder\\subfile\\month-2011-12-qtraf_0_2_1 done with 3000001 lines\n",
      "File G:\\New folder\\subfile\\month-2011-12-qtraf_0_2_2 done with 3000001 lines\n",
      "File G:\\New folder\\subfile\\month-2011-12-qtraf_0_2_3 done with 3000001 lines\n",
      "File G:\\New folder\\subfile\\month-2011-12-qtraf_0_2_4 done with 3000001 lines\n",
      "File G:\\New folder\\subfile\\month-2011-12-qtraf_0_2_5 done with 3000001 lines\n",
      "File G:\\New folder\\subfile\\month-2011-12-qtraf_0_2_6 done with 3000001 lines\n",
      "File G:\\New folder\\subfile\\month-2011-12-qtraf_0_2_7 done with 3000001 lines\n",
      "File G:\\New folder\\subfile\\month-2011-12-qtraf_0_2_8 done with 3000001 lines\n",
      "File G:\\New folder\\subfile\\month-2011-12-qtraf_0_2_9 done with 3000001 lines\n",
      "File G:\\New folder\\subfile\\month-2011-12-qtraf_0_2_10 done with 3000001 lines\n",
      "File G:\\New folder\\subfile\\month-2011-12-qtraf_0_2_11 done with 3000001 lines\n",
      "File G:\\New folder\\subfile\\month-2011-12-qtraf_0_2_12 done with 3000001 lines\n",
      "File G:\\New folder\\subfile\\month-2011-12-qtraf_0_2_13 done with 3000001 lines\n",
      "File G:\\New folder\\subfile\\month-2011-12-qtraf_0_2_14 done with 3000001 lines\n",
      "File G:\\New folder\\subfile\\month-2011-12-qtraf_0_2_15 done with 3000001 lines\n",
      "File G:\\New folder\\subfile\\month-2011-12-qtraf_0_2_16 done with 3000001 lines\n",
      "File G:\\New folder\\subfile\\month-2011-12-qtraf_0_2_17 done with 3000001 lines\n",
      "File G:\\New folder\\subfile\\month-2011-12-qtraf_0_2_18 done with 3000001 lines\n",
      "File G:\\New folder\\subfile\\month-2011-12-qtraf_0_2_19 done with 3000001 lines\n",
      "File G:\\New folder\\subfile\\month-2011-12-qtraf_0_2_20 done with 3000001 lines\n",
      "File G:\\New folder\\subfile\\month-2011-12-qtraf_0_2_21 done with 3000001 lines\n",
      "File G:\\New folder\\subfile\\month-2011-12-qtraf_0_2_22 done with 3000001 lines\n",
      "File G:\\New folder\\subfile\\month-2011-12-qtraf_0_2_23 done with 3000001 lines\n",
      "File G:\\New folder\\subfile\\month-2011-12-qtraf_0_2_24 done with 3000001 lines\n",
      "File G:\\New folder\\subfile\\month-2011-12-qtraf_0_2_25 done with 3000001 lines\n",
      "File G:\\New folder\\subfile\\month-2011-12-qtraf_0_2_26 done with 3000001 lines\n",
      "File G:\\New folder\\subfile\\month-2011-12-qtraf_0_2_27 done with 3000001 lines\n",
      "File G:\\New folder\\subfile\\month-2011-12-qtraf_0_2_28 done with 3000001 lines\n",
      "File G:\\New folder\\subfile\\month-2011-12-qtraf_0_2_29 done with 3000001 lines\n",
      "File G:\\New folder\\subfile\\month-2011-12-qtraf_0_2_30 done with 3000001 lines\n",
      "File G:\\New folder\\subfile\\month-2011-12-qtraf_0_2_31 done with 3000001 lines\n",
      "File G:\\New folder\\subfile\\month-2011-12-qtraf_0_2_32 done with 3000001 lines\n",
      "Job for file 'G:\\New folder\\subfile\\month-2011-12-qtraf_0_2' is Done\n"
     ]
    }
   ],
   "source": [
    "divide_big_file_to_series(file_path, 3000000)"
   ]
  },
  {
   "cell_type": "code",
   "execution_count": null,
   "metadata": {},
   "outputs": [],
   "source": []
  },
  {
   "cell_type": "code",
   "execution_count": null,
   "metadata": {},
   "outputs": [],
   "source": [
    "def train_new_model_by_dataset(dataset_path, save_model_path):\n",
    "    sequences = []\n",
    "    with open(dataset_path) as read_f:\n",
    "        for line in read_f: \n",
    "            sequences.append(line.split(\" \"))\n",
    "    print(len(sequences))\n",
    "    start_time = time.time()\n",
    "    model = gensim.models.Word2Vec(min_count=1)\n",
    "    model.build_vocab(sequences)\n",
    "    model.train(sequences, total_examples=model.corpus_count, epochs=model.iter)\n",
    "    end_time = time.time() - start_time\n",
    "    model.save(model_save_path)    \n",
    "    log_file.write(\"Elapsed time: %s\", %(end_time))"
   ]
  },
  {
   "cell_type": "code",
   "execution_count": null,
   "metadata": {},
   "outputs": [],
   "source": [
    "\n",
    "log_file.close()"
   ]
  },
  {
   "cell_type": "code",
   "execution_count": null,
   "metadata": {},
   "outputs": [],
   "source": [
    "model.predict_output_word(['казань', \"продажа\"])"
   ]
  },
  {
   "cell_type": "code",
   "execution_count": null,
   "metadata": {},
   "outputs": [],
   "source": []
  }
 ],
 "metadata": {
  "kernelspec": {
   "display_name": "Python 3",
   "language": "python",
   "name": "python3"
  },
  "language_info": {
   "codemirror_mode": {
    "name": "ipython",
    "version": 3
   },
   "file_extension": ".py",
   "mimetype": "text/x-python",
   "name": "python",
   "nbconvert_exporter": "python",
   "pygments_lexer": "ipython3",
   "version": "3.7.3"
  }
 },
 "nbformat": 4,
 "nbformat_minor": 2
}
