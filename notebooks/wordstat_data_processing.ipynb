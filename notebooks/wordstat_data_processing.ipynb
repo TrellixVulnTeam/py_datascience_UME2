{
 "cells": [
  {
   "cell_type": "code",
   "execution_count": 1,
   "metadata": {},
   "outputs": [],
   "source": [
    "import pandas as pd\n",
    "import numpy as np"
   ]
  },
  {
   "cell_type": "code",
   "execution_count": 2,
   "metadata": {},
   "outputs": [],
   "source": [
    "wordstat_path = \"G:\\\\New folder\\\\month-2011-12-qtraf\"\n",
    "my_dataset_path = \"G:\\\\New folder\\\\month-2011-12-qtraf_0_2\""
   ]
  },
  {
   "cell_type": "code",
   "execution_count": 3,
   "metadata": {},
   "outputs": [],
   "source": [
    "def write_by_lines():\n",
    "    counter = 0\n",
    "    with open(my_dataset_path) as write_f:\n",
    "        with open(wordstat_path) as read_f:\n",
    "            for line in read_f:\n",
    "                print(line)\n",
    "                write_f.write(line)\n",
    "                counter +=1\n",
    "                if counter > 1000000:\n",
    "                    print('Writing is ended!')\n",
    "                    break\n"
   ]
  },
  {
   "cell_type": "code",
   "execution_count": 4,
   "metadata": {},
   "outputs": [],
   "source": [
    "pd_data = pd.DataFrame({\n",
    "    \"lines\": [0]\n",
    "})\n",
    "def write_by_read(read_bytes_count = 2000, seeks_count=10000, intervals=5000, start_value = 18000000):\n",
    "    counter = start_value\n",
    "    with open(my_dataset_path, \"a\") as write_f:\n",
    "        with open(wordstat_path) as read_f:\n",
    "            read_f.seek(start_value)\n",
    "            while True:\n",
    "                #reduce intervals count\n",
    "                intervals -= 1\n",
    "                #reduce seek by \"read_bytes_count\"\n",
    "                counter += read_bytes_count\n",
    "                read_f.seek(counter)\n",
    "                c = read_f.read(read_bytes_count)\n",
    "                if (not c) or (intervals == 0):\n",
    "                    break\n",
    "                counter += seeks_count\n",
    "                splited_c = c.split('\\n')\n",
    "                if counter > start_value:\n",
    "                    for line in splited_c:\n",
    "                        tab_split = line.split('\\t')\n",
    "                        if len(tab_split) == 2:\n",
    "                            write_f.write(tab_split[1]+'\\n')"
   ]
  },
  {
   "cell_type": "code",
   "execution_count": null,
   "metadata": {},
   "outputs": [],
   "source": [
    "def print_by_read(read_bytes_count = 1024, seeks_count=1024, intervals=1, start_value = 18000000):\n",
    "    counter = start_value\n",
    "    with open(my_dataset_path, \"a\") as write_f:\n",
    "        with open(wordstat_path) as read_f:\n",
    "            read_f.seek(start_value)\n",
    "            while True:\n",
    "                #reduce intervals count\n",
    "                intervals -= 1\n",
    "                #reduce seek by \"read_bytes_count\"\n",
    "                counter += read_bytes_count\n",
    "                read_f.seek(counter)\n",
    "                c = read_f.read(read_bytes_count)\n",
    "                if (not c) or (intervals == 0):\n",
    "                    break                \n",
    "                counter += seeks_count\n",
    "                splited_c = c.split('\\n')\n",
    "                if counter > start_value:\n",
    "                    for line in splited_c:\n",
    "                        tab_split = line.split('\\t')\n",
    "                        if len(tab_split) == 2:\n",
    "                            print(tab_split[1])"
   ]
  },
  {
   "cell_type": "code",
   "execution_count": null,
   "metadata": {},
   "outputs": [],
   "source": [
    "def divide_big_file_to_series(file_name = \"\", lines_count = 1000000):\n",
    "    lines_counter = 0\n",
    "    current_little_file_postfix = 0\n",
    "    write_f_name = file_name + \"_\" + str(current_little_file_postfix)\n",
    "    write_f = open(write_f_name, \"a\")\n",
    "    print(\"Big file dividing started\\n\")\n",
    "    with open(file_name) as open_f:\n",
    "        #create new file\n",
    "        for line in open_f:\n",
    "            if lines_counter > lines_count:\n",
    "                write_f.close()\n",
    "                print(\"File %s done with %s lines\\n\" %(write_f_name, str(lines_counter)))\n",
    "                current_little_file_postfix += 1\n",
    "                write_f_name = file_name + \"_\" + str(current_little_file_postfix)\n",
    "                write_f = open(write_f_name, \"a\")\n",
    "                lines_counter = 0\n",
    "            write_f.write(line)\n",
    "            lines_counter += 1\n",
    "        write_f.close()\n",
    "        print(\"Job for file '%s' is Done\\n\" %(file_name))"
   ]
  },
  {
   "cell_type": "code",
   "execution_count": 5,
   "metadata": {},
   "outputs": [],
   "source": [
    "write_by_read(read_bytes_count = 1024*2000, seeks_count=1024*10000, intervals=3000, start_value = 16000000*1024)"
   ]
  },
  {
   "cell_type": "code",
   "execution_count": null,
   "metadata": {},
   "outputs": [],
   "source": [
    "print_by_read(read_bytes_count = 1024*100, seeks_count=1024*100000, intervals=2, start_value = 37000000*1024)"
   ]
  },
  {
   "cell_type": "code",
   "execution_count": null,
   "metadata": {},
   "outputs": [],
   "source": []
  }
 ],
 "metadata": {
  "kernelspec": {
   "display_name": "Python 3",
   "language": "python",
   "name": "python3"
  },
  "language_info": {
   "codemirror_mode": {
    "name": "ipython",
    "version": 3
   },
   "file_extension": ".py",
   "mimetype": "text/x-python",
   "name": "python",
   "nbconvert_exporter": "python",
   "pygments_lexer": "ipython3",
   "version": "3.7.3"
  }
 },
 "nbformat": 4,
 "nbformat_minor": 2
}
